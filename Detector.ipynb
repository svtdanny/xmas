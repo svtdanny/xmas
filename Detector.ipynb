{
 "cells": [
  {
   "cell_type": "code",
   "execution_count": 1,
   "id": "8d00951b-88c9-4689-909f-237fac24ea0c",
   "metadata": {},
   "outputs": [
    {
     "name": "stdout",
     "output_type": "stream",
     "text": [
      "ffmpeg version 4.4.2-0ubuntu0.22.04.1 Copyright (c) 2000-2021 the FFmpeg developers\n",
      "  built with gcc 11 (Ubuntu 11.2.0-19ubuntu1)\n",
      "  configuration: --prefix=/usr --extra-version=0ubuntu0.22.04.1 --toolchain=hardened --libdir=/usr/lib/x86_64-linux-gnu --incdir=/usr/include/x86_64-linux-gnu --arch=amd64 --enable-gpl --disable-stripping --enable-gnutls --enable-ladspa --enable-libaom --enable-libass --enable-libbluray --enable-libbs2b --enable-libcaca --enable-libcdio --enable-libcodec2 --enable-libdav1d --enable-libflite --enable-libfontconfig --enable-libfreetype --enable-libfribidi --enable-libgme --enable-libgsm --enable-libjack --enable-libmp3lame --enable-libmysofa --enable-libopenjpeg --enable-libopenmpt --enable-libopus --enable-libpulse --enable-librabbitmq --enable-librubberband --enable-libshine --enable-libsnappy --enable-libsoxr --enable-libspeex --enable-libsrt --enable-libssh --enable-libtheora --enable-libtwolame --enable-libvidstab --enable-libvorbis --enable-libvpx --enable-libwebp --enable-libx265 --enable-libxml2 --enable-libxvid --enable-libzimg --enable-libzmq --enable-libzvbi --enable-lv2 --enable-omx --enable-openal --enable-opencl --enable-opengl --enable-sdl2 --enable-pocketsphinx --enable-librsvg --enable-libmfx --enable-libdc1394 --enable-libdrm --enable-libiec61883 --enable-chromaprint --enable-frei0r --enable-libx264 --enable-shared\n",
      "  libavutil      56. 70.100 / 56. 70.100\n",
      "  libavcodec     58.134.100 / 58.134.100\n",
      "  libavformat    58. 76.100 / 58. 76.100\n",
      "  libavdevice    58. 13.100 / 58. 13.100\n",
      "  libavfilter     7.110.100 /  7.110.100\n",
      "  libswscale      5.  9.100 /  5.  9.100\n",
      "  libswresample   3.  9.100 /  3.  9.100\n",
      "  libpostproc    55.  9.100 / 55.  9.100\n",
      "Input #0, matroska,webm, from './test_data/2023-12-23-00-16-19.mkv':\n",
      "  Metadata:\n",
      "    ENCODER         : Lavf57.83.100\n",
      "  Duration: 00:02:04.90, start: 0.000000, bitrate: 2163 kb/s\n",
      "  Stream #0:0: Video: h264 (High), yuv420p(tv, bt709, progressive), 1280x720 [SAR 1:1 DAR 16:9], 30 fps, 30 tbr, 1k tbn, 60 tbc (default)\n",
      "    Metadata:\n",
      "      DURATION        : 00:02:04.900000000\n",
      "  Stream #0:1: Audio: aac (LC), 48000 Hz, stereo, fltp (default)\n",
      "    Metadata:\n",
      "      title           : Track1\n",
      "      DURATION        : 00:02:04.842000000\n",
      "Stream mapping:\n",
      "  Stream #0:0 -> #0:0 (h264 (native) -> png (native))\n",
      "Press [q] to stop, [?] for help\n",
      "Output #0, image2, to './test_data/frames-2023-12-23-00-16-19/%04d.png':\n",
      "  Metadata:\n",
      "    encoder         : Lavf58.76.100\n",
      "  Stream #0:0: Video: png, rgb24(pc, gbr/bt709/bt709, progressive), 1280x720 [SAR 1:1 DAR 16:9], q=2-31, 200 kb/s, 1 fps, 1 tbn (default)\n",
      "    Metadata:\n",
      "      DURATION        : 00:02:04.900000000\n",
      "      encoder         : Lavc58.134.100 png\n",
      "frame=  127 fps= 48 q=-0.0 Lsize=N/A time=00:02:07.00 bitrate=N/A dup=0 drop=3619 speed=47.6x    \n",
      "video:136576kB audio:0kB subtitle:0kB other streams:0kB global headers:0kB muxing overhead: unknown\n"
     ]
    }
   ],
   "source": [
    "import os\n",
    "\n",
    "# Нарезаем видос на кадры\n",
    "videos_path = './test_data/'\n",
    "\n",
    "for video_name in os.listdir(videos_path):\n",
    "    if 'mkv' not in video_name:\n",
    "        continue\n",
    "    new_folder = 'frames-' + video_name.split('.mkv')[0]\n",
    "    os.makedirs(os.path.join(videos_path, new_folder), exist_ok=True)\n",
    "    inp = os.path.join(videos_path, video_name)\n",
    "    out = os.path.join(videos_path, new_folder, '%04d.png')\n",
    "    !ffmpeg -i {inp} -r 1/1 {out}"
   ]
  },
  {
   "cell_type": "code",
   "execution_count": 2,
   "id": "54001fa4-45bd-483f-b123-43d8983bc152",
   "metadata": {},
   "outputs": [
    {
     "name": "stdout",
     "output_type": "stream",
     "text": [
      "You choose ShadowFormer...\n"
     ]
    },
    {
     "name": "stderr",
     "output_type": "stream",
     "text": [
      "/home/andrey/anaconda3/envs/shadow/lib/python3.11/site-packages/torch/functional.py:504: UserWarning: torch.meshgrid: in an upcoming release, it will be required to pass the indexing argument. (Triggered internally at ../aten/src/ATen/native/TensorShape.cpp:3526.)\n",
      "  return _VF.meshgrid(tensors, **kwargs)  # type: ignore[attr-defined]\n"
     ]
    },
    {
     "name": "stdout",
     "output_type": "stream",
     "text": [
      "Loaded pretrained weights for efficientnet-b3\n"
     ]
    }
   ],
   "source": [
    "import os\n",
    "from shadow_models import *\n",
    "\n",
    "data_root = './test_data/frames-2023-12-23-00-16-19/'\n",
    "save_dir_masks = './outputs_masks'\n",
    "save_dir_restored = './outputs_restored'\n",
    "os.makedirs(save_dir_masks, exist_ok=True)\n",
    "os.makedirs(save_dir_restored, exist_ok=True)\n",
    "\n",
    "model_restoration, model_detection = get_shadow_models()"
   ]
  },
  {
   "cell_type": "code",
   "execution_count": 3,
   "id": "e24b30ce-38b5-48b0-84ac-2deace657af4",
   "metadata": {},
   "outputs": [],
   "source": [
    "test_dataset = ShadowDataset(data_root=data_root, im_size=512)"
   ]
  },
  {
   "cell_type": "code",
   "execution_count": 4,
   "id": "f5abab40-be62-47d0-9b20-7b55b86de045",
   "metadata": {},
   "outputs": [
    {
     "data": {
      "text/plain": [
       "odict_keys(['full_image', 'image', 'im_shape', 'im_name'])"
      ]
     },
     "execution_count": 4,
     "metadata": {},
     "output_type": "execute_result"
    }
   ],
   "source": [
    "# full_image - полное разрешение\n",
    "# image - scale до im_size=512 в детекторе\n",
    "# все в numpy от 0 до 255\n",
    "test_dataset[0].keys()"
   ]
  },
  {
   "cell_type": "code",
   "execution_count": 5,
   "id": "cfbe7cae-472f-44ad-975c-152a1d9d7c07",
   "metadata": {},
   "outputs": [
    {
     "name": "stderr",
     "output_type": "stream",
     "text": [
      "100%|█████████████████████████████████████████████████████████████████████████████████| 127/127 [00:32<00:00,  3.92it/s]\n"
     ]
    }
   ],
   "source": [
    "with torch.no_grad():\n",
    "    for data in tqdm(test_dataset):\n",
    "        \n",
    "        im_name = data['im_name']\n",
    "        \n",
    "        # refine вроде не существенно влияет на качество, но сильно замедляет\n",
    "        detector_output = run_detector(model_detection, data, refine=False)\n",
    "        rgb_restored = run_shadowformer(model_restoration, data, detector_output)\n",
    "        \n",
    "        cv2.imwrite(os.path.join(save_dir_masks, im_name), detector_output)\n",
    "        cv2.imwrite(os.path.join(save_dir_restored, im_name), rgb_restored)"
   ]
  },
  {
   "cell_type": "code",
   "execution_count": 8,
   "id": "bd065e6f-d125-48ec-ba3d-0942859369b3",
   "metadata": {},
   "outputs": [
    {
     "name": "stdout",
     "output_type": "stream",
     "text": [
      "ffmpeg version 4.4.2-0ubuntu0.22.04.1 Copyright (c) 2000-2021 the FFmpeg developers\n",
      "  built with gcc 11 (Ubuntu 11.2.0-19ubuntu1)\n",
      "  configuration: --prefix=/usr --extra-version=0ubuntu0.22.04.1 --toolchain=hardened --libdir=/usr/lib/x86_64-linux-gnu --incdir=/usr/include/x86_64-linux-gnu --arch=amd64 --enable-gpl --disable-stripping --enable-gnutls --enable-ladspa --enable-libaom --enable-libass --enable-libbluray --enable-libbs2b --enable-libcaca --enable-libcdio --enable-libcodec2 --enable-libdav1d --enable-libflite --enable-libfontconfig --enable-libfreetype --enable-libfribidi --enable-libgme --enable-libgsm --enable-libjack --enable-libmp3lame --enable-libmysofa --enable-libopenjpeg --enable-libopenmpt --enable-libopus --enable-libpulse --enable-librabbitmq --enable-librubberband --enable-libshine --enable-libsnappy --enable-libsoxr --enable-libspeex --enable-libsrt --enable-libssh --enable-libtheora --enable-libtwolame --enable-libvidstab --enable-libvorbis --enable-libvpx --enable-libwebp --enable-libx265 --enable-libxml2 --enable-libxvid --enable-libzimg --enable-libzmq --enable-libzvbi --enable-lv2 --enable-omx --enable-openal --enable-opencl --enable-opengl --enable-sdl2 --enable-pocketsphinx --enable-librsvg --enable-libmfx --enable-libdc1394 --enable-libdrm --enable-libiec61883 --enable-chromaprint --enable-frei0r --enable-libx264 --enable-shared\n",
      "  libavutil      56. 70.100 / 56. 70.100\n",
      "  libavcodec     58.134.100 / 58.134.100\n",
      "  libavformat    58. 76.100 / 58. 76.100\n",
      "  libavdevice    58. 13.100 / 58. 13.100\n",
      "  libavfilter     7.110.100 /  7.110.100\n",
      "  libswscale      5.  9.100 /  5.  9.100\n",
      "  libswresample   3.  9.100 /  3.  9.100\n",
      "  libpostproc    55.  9.100 / 55.  9.100\n",
      "Input #0, image2, from './outputs_restored/%04d.png':\n",
      "  Duration: 00:00:12.70, start: 0.000000, bitrate: N/A\n",
      "  Stream #0:0: Video: png, rgb24(pc), 1280x720, 10 fps, 10 tbr, 10 tbn, 10 tbc\n",
      "Stream mapping:\n",
      "  Stream #0:0 -> #0:0 (png (native) -> h264 (libx264))\n",
      "Press [q] to stop, [?] for help\n",
      "\u001b[1;36m[libx264 @ 0x55775893ab00] \u001b[0musing cpu capabilities: MMX2 SSE2Fast SSSE3 SSE4.2 AVX FMA3 BMI2 AVX2\n",
      "\u001b[1;36m[libx264 @ 0x55775893ab00] \u001b[0mprofile High 4:4:4 Predictive, level 3.1, 4:4:4, 8-bit\n",
      "\u001b[1;36m[libx264 @ 0x55775893ab00] \u001b[0m264 - core 163 r3060 5db6aa6 - H.264/MPEG-4 AVC codec - Copyleft 2003-2021 - http://www.videolan.org/x264.html - options: cabac=1 ref=3 deblock=1:0:0 analyse=0x3:0x113 me=hex subme=7 psy=1 psy_rd=1.00:0.00 mixed_ref=1 me_range=16 chroma_me=1 trellis=1 8x8dct=1 cqm=0 deadzone=21,11 fast_pskip=1 chroma_qp_offset=4 threads=22 lookahead_threads=3 sliced_threads=0 nr=0 decimate=1 interlaced=0 bluray_compat=0 constrained_intra=0 bframes=3 b_pyramid=2 b_adapt=1 b_bias=0 direct=1 weightb=1 open_gop=0 weightp=2 keyint=250 keyint_min=10 scenecut=40 intra_refresh=0 rc_lookahead=40 rc=crf mbtree=1 crf=23.0 qcomp=0.60 qpmin=0 qpmax=69 qpstep=4 ip_ratio=1.40 aq=1:1.00\n",
      "Output #0, mp4, to 'output.mp4':\n",
      "  Metadata:\n",
      "    encoder         : Lavf58.76.100\n",
      "  Stream #0:0: Video: h264 (avc1 / 0x31637661), yuv444p(tv, progressive), 1280x720, q=2-31, 10 fps, 10240 tbn\n",
      "    Metadata:\n",
      "      encoder         : Lavc58.134.100 libx264\n",
      "    Side data:\n",
      "      cpb: bitrate max/min/avg: 0/0/0 buffer size: 0 vbv_delay: N/A\n",
      "frame=  127 fps= 50 q=-1.0 Lsize=    2016kB time=00:00:12.40 bitrate=1331.9kbits/s speed=4.93x    \n",
      "video:2014kB audio:0kB subtitle:0kB other streams:0kB global headers:0kB muxing overhead: 0.116387%\n",
      "\u001b[1;36m[libx264 @ 0x55775893ab00] \u001b[0mframe I:1     Avg QP:19.24  size:111570\n",
      "\u001b[1;36m[libx264 @ 0x55775893ab00] \u001b[0mframe P:32    Avg QP:20.26  size: 33730\n",
      "\u001b[1;36m[libx264 @ 0x55775893ab00] \u001b[0mframe B:94    Avg QP:22.74  size:  9260\n",
      "\u001b[1;36m[libx264 @ 0x55775893ab00] \u001b[0mconsecutive B-frames:  0.8%  1.6%  0.0% 97.6%\n",
      "\u001b[1;36m[libx264 @ 0x55775893ab00] \u001b[0mmb I  I16..4: 11.3% 42.3% 46.4%\n",
      "\u001b[1;36m[libx264 @ 0x55775893ab00] \u001b[0mmb P  I16..4:  2.9%  6.0%  0.7%  P16..4: 52.5% 20.7% 12.8%  0.0%  0.0%    skip: 4.3%\n",
      "\u001b[1;36m[libx264 @ 0x55775893ab00] \u001b[0mmb B  I16..4:  0.9%  1.3%  0.2%  B16..8: 35.9%  5.3%  1.0%  direct:10.3%  skip:45.0%  L0:50.3% L1:41.7% BI: 8.0%\n",
      "\u001b[1;36m[libx264 @ 0x55775893ab00] \u001b[0m8x8 transform intra:56.4% inter:63.5%\n",
      "\u001b[1;36m[libx264 @ 0x55775893ab00] \u001b[0mcoded y,u,v intra: 48.5% 19.7% 15.6% inter: 33.3% 8.1% 6.1%\n",
      "\u001b[1;36m[libx264 @ 0x55775893ab00] \u001b[0mi16 v,h,dc,p: 12% 42% 15% 31%\n",
      "\u001b[1;36m[libx264 @ 0x55775893ab00] \u001b[0mi8 v,h,dc,ddl,ddr,vr,hd,vl,hu: 15% 26% 35%  4%  3%  3%  5%  3%  7%\n",
      "\u001b[1;36m[libx264 @ 0x55775893ab00] \u001b[0mi4 v,h,dc,ddl,ddr,vr,hd,vl,hu: 15% 27% 17%  6%  5%  4% 11%  4% 10%\n",
      "\u001b[1;36m[libx264 @ 0x55775893ab00] \u001b[0mWeighted P-Frames: Y:34.4% UV:0.0%\n",
      "\u001b[1;36m[libx264 @ 0x55775893ab00] \u001b[0mref P L0: 29.5% 13.5% 29.1% 21.4%  6.4%\n",
      "\u001b[1;36m[libx264 @ 0x55775893ab00] \u001b[0mref B L0: 60.1% 29.5% 10.3%\n",
      "\u001b[1;36m[libx264 @ 0x55775893ab00] \u001b[0mref B L1: 87.7% 12.3%\n",
      "\u001b[1;36m[libx264 @ 0x55775893ab00] \u001b[0mkb/s:1298.51\n"
     ]
    }
   ],
   "source": [
    "!ffmpeg -framerate 10 -i \"./outputs_restored/%04d.png\" output.mp4 -y"
   ]
  }
 ],
 "metadata": {
  "kernelspec": {
   "display_name": "Python 3 (ipykernel)",
   "language": "python",
   "name": "python3"
  },
  "language_info": {
   "codemirror_mode": {
    "name": "ipython",
    "version": 3
   },
   "file_extension": ".py",
   "mimetype": "text/x-python",
   "name": "python",
   "nbconvert_exporter": "python",
   "pygments_lexer": "ipython3",
   "version": "3.11.5"
  }
 },
 "nbformat": 4,
 "nbformat_minor": 5
}
